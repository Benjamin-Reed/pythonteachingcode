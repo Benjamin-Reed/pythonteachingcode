{
 "cells": [
  {
   "cell_type": "markdown",
   "metadata": {},
   "source": [
    "# P2M1: Module 1 Practice\n",
    "## Sequence: String\n",
    "\n",
    "<font size=\"5\" color=\"#00A0B2\"  face=\"verdana\"> <B>Student will be able to</B></font>  \n",
    "- Work with String Characters\n",
    "- Slice strings into substrings\n",
    "- Iterate through String Characters\n",
    "- Use String ~~Tricks~~ Methods"
   ]
  },
  {
   "cell_type": "markdown",
   "metadata": {},
   "source": [
    "# &nbsp;\n",
    "<font size=\"6\" color=\"#B24C00\"  face=\"verdana\"> <B>Task 1</B></font>\n",
    "##  Access String Characters \n",
    "### `working_string[index]`\n"
   ]
  },
  {
   "cell_type": "code",
   "execution_count": 3,
   "metadata": {},
   "outputs": [
    {
     "name": "stdout",
     "output_type": "stream",
     "text": [
      "u\n"
     ]
    }
   ],
   "source": [
    "# [ ] access and print the second character from planet_name: \"u\"\n",
    "planet_name = \"Jupiter\"\n",
    "print(planet_name[1])\n"
   ]
  },
  {
   "cell_type": "code",
   "execution_count": 4,
   "metadata": {},
   "outputs": [
    {
     "name": "stdout",
     "output_type": "stream",
     "text": [
      "J\n"
     ]
    }
   ],
   "source": [
    "# [ ] access and print the first character from planet_name: \"J\"\n",
    "planet_name = \"Jupiter\"\n",
    "\n",
    "print(planet_name[0])\n"
   ]
  },
  {
   "cell_type": "code",
   "execution_count": 7,
   "metadata": {},
   "outputs": [
    {
     "name": "stdout",
     "output_type": "stream",
     "text": [
      "First character: J\n",
      "Last character: r\n"
     ]
    }
   ],
   "source": [
    "# [ ] access and print the first and last characters from planet_name\n",
    "planet_name = \"Jupiter\"\n",
    "\n",
    "print(\"First character:\", planet_name[0])\n",
    "\n",
    "print(\"Last character:\", planet_name[-1])"
   ]
  },
  {
   "cell_type": "code",
   "execution_count": 11,
   "metadata": {},
   "outputs": [
    {
     "name": "stdout",
     "output_type": "stream",
     "text": [
      "J\n"
     ]
    }
   ],
   "source": [
    "# [ ] using a negative index access and print the first character from planet_name: \"J\"\n",
    "planet_name = \"Jupiter\"\n",
    "\n",
    "print(planet_name[-7])"
   ]
  },
  {
   "cell_type": "markdown",
   "metadata": {},
   "source": [
    "# &nbsp;\n",
    "<font size=\"6\" color=\"#B24C00\"  face=\"verdana\"> <B>Task 2</B></font>\n",
    "## slice\n",
    "### `working_string[start:stop]`\n",
    "### `working_string[start:stop:step]`"
   ]
  },
  {
   "cell_type": "code",
   "execution_count": 12,
   "metadata": {},
   "outputs": [
    {
     "name": "stdout",
     "output_type": "stream",
     "text": [
      "Nep\n",
      "tune\n"
     ]
    }
   ],
   "source": [
    "# [ ] print planet_name sliced into the first 3 characters and remaining characters\n",
    "planet_name = \"Neptune\"\n",
    "\n",
    "print(planet_name[0:3])\n",
    "print(planet_name[3::])"
   ]
  },
  {
   "cell_type": "code",
   "execution_count": 14,
   "metadata": {},
   "outputs": [
    {
     "name": "stdout",
     "output_type": "stream",
     "text": [
      "Python\n"
     ]
    }
   ],
   "source": [
    "# [ ] print 1st char and then every 3rd char of wise_words\n",
    "# use string slice with a step\n",
    "wise_words = 'Play it who opens'\n",
    "\n",
    "print(wise_words[0::3])"
   ]
  },
  {
   "cell_type": "code",
   "execution_count": 16,
   "metadata": {},
   "outputs": [
    {
     "name": "stdout",
     "output_type": "stream",
     "text": [
      "enutpeN\n"
     ]
    }
   ],
   "source": [
    "# [ ] print planet_name in reverse\n",
    "\n",
    "print(planet_name[::-1])"
   ]
  },
  {
   "cell_type": "markdown",
   "metadata": {
    "collapsed": true
   },
   "source": [
    "# &nbsp;\n",
    "<font size=\"6\" color=\"#B24C00\"  face=\"verdana\"> <B>Task 3</B></font>\n",
    "\n",
    "## iterate a String\n",
    "### `for letter in sentence:`"
   ]
  },
  {
   "cell_type": "code",
   "execution_count": 17,
   "metadata": {},
   "outputs": [
    {
     "name": "stdout",
     "output_type": "stream",
     "text": [
      "P\n",
      "i\n",
      "z\n",
      "z\n",
      "a\n"
     ]
    }
   ],
   "source": [
    "# [ ] Get user input for 1 fav_food\n",
    "# [ ] iterate through letters in fav_food \n",
    "#    - print each letter on a new line\n",
    "\n",
    "fav_food = input(\"What is your favoriote food?: \")\n",
    "\n",
    "for letter in fav_food:\n",
    "    print(letter)\n",
    "\n"
   ]
  },
  {
   "cell_type": "code",
   "execution_count": null,
   "metadata": {},
   "outputs": [
    {
     "name": "stdout",
     "output_type": "stream",
     "text": [
      "Good-code-is-commented-code\n"
     ]
    }
   ],
   "source": [
    "# [ ] iterate work_tip string concatenate each letter to variable: new_string \n",
    "# [ ] concatenate the letter to a \"-\" instead of a space \" \"\n",
    "# tip: concatenate string example: word = word + \"a\"\n",
    "work_tip = \"Good code is commented code\"\n",
    "\n",
    "new_string = \"\"\n",
    "\n",
    "for letter in work_tip:\n",
    "    if letter == \" \":\n",
    "        new_string += \"-\"\n",
    "\n",
    "    else:\n",
    "        new_string += letter\n",
    "\n",
    "print(new_string)\n",
    "\n"
   ]
  },
  {
   "cell_type": "code",
   "execution_count": 20,
   "metadata": {},
   "outputs": [
    {
     "name": "stdout",
     "output_type": "stream",
     "text": [
      "Hiro\n"
     ]
    }
   ],
   "source": [
    "# [ ] Print the first 4 letters of name on new line\n",
    "name = \"Hiroto\"\n",
    "\n",
    "print(name[0:4])\n"
   ]
  },
  {
   "cell_type": "code",
   "execution_count": 25,
   "metadata": {},
   "outputs": [
    {
     "name": "stdout",
     "output_type": "stream",
     "text": [
      "ioo\n"
     ]
    }
   ],
   "source": [
    "# [ ] Print every other letter from 2nd to last letter of name \n",
    "name = \"Hiroto\"\n",
    "\n",
    "print(name[1::2])"
   ]
  },
  {
   "cell_type": "markdown",
   "metadata": {},
   "source": [
    "# &nbsp;\n",
    "<font size=\"6\" color=\"#B24C00\"  face=\"verdana\"> <B>Task 4</B></font>\n",
    "\n",
    "## Program: Mystery Name\n",
    "- get user input for first_name\n",
    "- create an empty string variable: new_name\n",
    "- iterate through letters in first_name Backwards \n",
    "  - add each letter to new_name as you iterate\n",
    "  - Replace the letter if \"e\", \"t\" or \"a\" with \"?\" *(hint: if, elif, elif, else)*\n",
    "- print new_name  \n",
    "\n",
    "**example: \"Alton\" = \"no?l?\"**"
   ]
  },
  {
   "cell_type": "code",
   "execution_count": 26,
   "metadata": {},
   "outputs": [
    {
     "name": "stdout",
     "output_type": "stream",
     "text": [
      "d??R ?r?u?S nim?jn?B\n"
     ]
    }
   ],
   "source": [
    "# [ ] Create Mystery Name\n",
    "\n",
    "first_name = input(\"What is the name\")\n",
    "\n",
    "new_name = \"\"\n",
    "\n",
    "for letter in first_name[::-1]:\n",
    "    if letter.lower() == \"e\":\n",
    "        new_name += \"?\"\n",
    "    elif letter.lower() == \"t\":\n",
    "        new_name += \"?\"\n",
    "    elif letter.lower() == \"a\":\n",
    "        new_name += \"?\"\n",
    "    else:\n",
    "        new_name += letter\n",
    "\n",
    "print(new_name)"
   ]
  },
  {
   "cell_type": "markdown",
   "metadata": {},
   "source": [
    "# &nbsp;\n",
    "<font size=\"6\" color=\"#B24C00\"  face=\"verdana\"> <B>Task 4</B></font>\n",
    "## `len(), .find(), .count()`   \n",
    "\n",
    "```  \n",
    "- len(working_string)\n",
    "- .find(\"i\")\n",
    "- .find(\"i\",start)\n",
    "- .find(\"i\", start, end)\n",
    "- .count(\"i\")\n",
    "- .count(\"i\", start)\n",
    "- .count(\"i\", start, end)\n",
    "```   "
   ]
  },
  {
   "cell_type": "code",
   "execution_count": 27,
   "metadata": {},
   "outputs": [
    {
     "name": "stdout",
     "output_type": "stream",
     "text": [
      "36\n"
     ]
    }
   ],
   "source": [
    "# [ ] find and display the length of the string: topic\n",
    "topic = \"len() returns the length of a string\"\n",
    "\n",
    "print(len(topic))"
   ]
  },
  {
   "cell_type": "code",
   "execution_count": 28,
   "metadata": {},
   "outputs": [
    {
     "name": "stdout",
     "output_type": "stream",
     "text": [
      "The middle index is:  28\n"
     ]
    }
   ],
   "source": [
    "# [ ] use len() to find and display the mid_pt (middle) index (+/- 1) of the string: topic\n",
    "# note: index values are whole numbers\n",
    "topic = \"len() can take a sequence, like a string, as an argument\"\n",
    "\n",
    "string_length = len(topic)\n",
    "\n",
    "mid_pt = string_length //2\n",
    "print(\"The middle index is: \", mid_pt)"
   ]
  },
  {
   "cell_type": "code",
   "execution_count": 29,
   "metadata": {},
   "outputs": [
    {
     "name": "stdout",
     "output_type": "stream",
     "text": [
      "5\n"
     ]
    }
   ],
   "source": [
    "# [ ] print index where first instance of the word  \"code\" starts using .find()\n",
    "work_tip = \"Good code is commented code\"\n",
    "\n",
    "print(work_tip.find(\"code\"))"
   ]
  },
  {
   "cell_type": "code",
   "execution_count": 31,
   "metadata": {},
   "outputs": [
    {
     "name": "stdout",
     "output_type": "stream",
     "text": [
      "\"code\" found at index 23\n"
     ]
    }
   ],
   "source": [
    "# [ ] search for \"code\" in code_tip using .find() \n",
    "# [ ] search substring with substring index start= 13,end = last char \n",
    "# [ ] save result in variable: code_index\n",
    "# [ ] display index of where \"code\" is found, or print \"not found\" if code_index == -1\n",
    "work_tip = \"Good code is commented code\"\n",
    "\n",
    "code_index = work_tip.find(\"code\", 13)\n",
    "\n",
    "if code_index == -1:\n",
    "    print(\"not found\")\n",
    "\n",
    "else:\n",
    "    print(f'\"code\" found at index {code_index}')\n"
   ]
  },
  {
   "cell_type": "markdown",
   "metadata": {
    "collapsed": true
   },
   "source": [
    "# &nbsp;\n",
    "<font size=\"6\" color=\"#B24C00\"  face=\"verdana\"> <B>Task 5</B></font>"
   ]
  },
  {
   "cell_type": "code",
   "execution_count": 36,
   "metadata": {},
   "outputs": [
    {
     "name": "stdout",
     "output_type": "stream",
     "text": [
      "Ws =  0 \n",
      "Os =  5 \n",
      "Codes =  2 \n",
      "Number of letters:  27\n"
     ]
    }
   ],
   "source": [
    "# [ ] find and report (print) number of w's, o's + use of word \"code\"\n",
    "work_tip = \"Good code is commented code\"\n",
    "i = 0\n",
    "ws = 0\n",
    "os = 0\n",
    "codes = 0\n",
    "for letter in work_tip:\n",
    "\n",
    "    if letter == \"w\":\n",
    "        ws += 1\n",
    "    elif letter == \"o\":\n",
    "        os += 1\n",
    "    elif letter == \"c\":\n",
    "        if work_tip[i]+work_tip[i+1]+work_tip[i+2]+work_tip[i+3] == \"code\":\n",
    "            codes += 1\n",
    "    i += 1\n",
    "\n",
    "print(\"Ws = \",ws, \"\\nOs = \", os, \"\\nCodes = \", codes, \"\\nNumber of letters: \", i)\n",
    "##print(work_tip[27])"
   ]
  },
  {
   "cell_type": "code",
   "execution_count": 38,
   "metadata": {},
   "outputs": [
    {
     "name": "stdout",
     "output_type": "stream",
     "text": [
      "code_tip: code a conditional decision like you would say it\n",
      "\n",
      "The letter 'i' appears 6 times.\n",
      "\n",
      "Fiunding all occurances of the letter 'i': \n",
      "Found 'i' at index:  11\n",
      "Found 'i' at index:  13\n",
      "Found 'i' at index:  22\n",
      "Found 'i' at index:  24\n",
      "Found 'i' at index:  29\n",
      "Found 'i' at index:  47\n"
     ]
    }
   ],
   "source": [
    "# [ ]  count times letter \"i\" appears in code_tip string\n",
    "# [ ] find and display the index of all the letter i's in code_tip\n",
    "# Remember: if .find(\"i\") has No Match, -1 is returned\n",
    "code_tip = \"code a conditional decision like you would say it\"\n",
    "print (\"code_tip:\" , code_tip)\n",
    "\n",
    "i_count = code_tip.count('i')\n",
    "print(f\"\\nThe letter 'i' appears {i_count} times.\")\n",
    "\n",
    "print(\"\\nFiunding all occurances of the letter 'i': \")\n",
    "\n",
    "search_start = 0\n",
    "\n",
    "while True:\n",
    "    i_index = code_tip.find('i', search_start)\n",
    "\n",
    "    if i_index == -1:\n",
    "        break\n",
    "    else:\n",
    "        print(\"Found 'i' at index: \", i_index)\n",
    "\n",
    "        search_start = i_index +1"
   ]
  },
  {
   "cell_type": "markdown",
   "metadata": {},
   "source": [
    "# &nbsp;\n",
    "<font size=\"6\" color=\"#B24C00\"  face=\"verdana\"> <B>Task 6</B></font>\n",
    "\n",
    "## Program: Words after \"G\"/\"g\"\n",
    "Create a program inputs a phrase (like a famous quotation) and prints all of the words that start with h-z\n",
    "\n",
    "Sample input:  \n",
    "`enter a 1 sentence quote, non-alpha separate words:` **`Wheresoever you go, go with all your heart`**  \n",
    "\n",
    "Sample output:\n",
    "```\n",
    "WHERESOEVER\n",
    "YOU\n",
    "WITH\n",
    "YOUR\n",
    "HEART\n",
    "```\n",
    "- split the words by building a placeholder variable: **`word`**  \n",
    "  - loop each character in the input string  \n",
    "  - check if character is a letter  \n",
    "  - add a letter to **`word`** each loop until a non-alpha char is encountered  \n",
    "\n",
    "- **if** character is alpha \n",
    "  - add character to **`word`**    \n",
    "  - non-alpha detected (space, punctuation, digit,...) defines the end of a word and goes to **`else`**    \n",
    "- **`else`**  \n",
    "  - check **`if`** word is greater than \"g\" alphabetically\n",
    "      - print word \n",
    "      - set word = empty string\n",
    "  - or **else** \n",
    "    - set word = empty string and build the next word  \n",
    "\n",
    "Hint: use `.lower()`"
   ]
  },
  {
   "cell_type": "code",
   "execution_count": 40,
   "metadata": {},
   "outputs": [
    {
     "name": "stdout",
     "output_type": "stream",
     "text": [
      "WHERESOEVER\n",
      "YOU\n",
      "WITH\n",
      "YOUR\n",
      "HEART\n"
     ]
    }
   ],
   "source": [
    "# [] create words after \"G\"\n",
    "# sample quote \"Wheresoever you go, go with all your heart\" ~ Confucius (551 BC - 479 BC)\n",
    "\n",
    "quote = input(\"enter a 1 sentence quote, non-alpha septerate words: \")\n",
    "\n",
    "word = \"\"\n",
    "\n",
    "for character in quote:\n",
    "    if character.isalpha():\n",
    "        word += character\n",
    "    else:\n",
    "        if word:\n",
    "            if word[0].lower() > \"g\":\n",
    "                print(word.upper())\n",
    "            \n",
    "            word = \"\"\n",
    "\n",
    "if word:\n",
    "    if word[0].lower() > \"g\":\n",
    "        print(word.upper())\n",
    "\n"
   ]
  },
  {
   "cell_type": "markdown",
   "metadata": {
    "collapsed": true
   },
   "source": [
    "[Terms of use](http://go.microsoft.com/fwlink/?LinkID=206977) &nbsp; [Privacy & cookies](https://go.microsoft.com/fwlink/?LinkId=521839) &nbsp; © 2017 Microsoft"
   ]
  }
 ],
 "metadata": {
  "anaconda-cloud": {},
  "kernelspec": {
   "display_name": "Python 3",
   "language": "python",
   "name": "python3"
  },
  "language_info": {
   "codemirror_mode": {
    "name": "ipython",
    "version": 3
   },
   "file_extension": ".py",
   "mimetype": "text/x-python",
   "name": "python",
   "nbconvert_exporter": "python",
   "pygments_lexer": "ipython3",
   "version": "3.13.7"
  }
 },
 "nbformat": 4,
 "nbformat_minor": 1
}
