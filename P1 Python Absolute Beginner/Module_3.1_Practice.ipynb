{
 "cells": [
  {
   "cell_type": "markdown",
   "metadata": {},
   "source": [
    "# P1M3: Module 3 Practice\n",
    "## Conditionals\n",
    "<font size=\"5\" color=\"#00A0B2\"  face=\"verdana\"> <B>Student will be able to</B></font>\n",
    "- **control code flow with `if`... `else` conditional logic**\n",
    "  - using Boolean string methods (`.isupper(), .isalpha(), .startswith()...`)\n",
    "  - using comparision (`>, <, >=, <=, ==, !=`)\n",
    "  - using Strings in comparisons  \n",
    "\n",
    "## `if else`\n"
   ]
  },
  {
   "cell_type": "code",
   "execution_count": 4,
   "metadata": {},
   "outputs": [
    {
     "name": "stdout",
     "output_type": "stream",
     "text": [
      "Age's first type is:  <class 'int'>\n",
      "Age's second type is:  <class 'int'>\n",
      "In ten years you will be 28.\n"
     ]
    }
   ],
   "source": [
    "# [ ] input a variable: age as digit and cast to int\n",
    "# if age greater than or equal to 12 then print message on age in 10 years \n",
    "# or else print message \"It is good to be\" age\n",
    "age = int(input(\"Input your age (use only whole numbers): \"))\n",
    "print(\"Age's first type is: \",type(age))\n",
    "age = int(age)\n",
    "print(\"Age's second type is: \",type(age))\n",
    "\n",
    "if age >= 12:\n",
    "    print(\"In ten years you will be \"+str(age+10)+\".\")\n",
    "else:\n",
    "    print(\"It is good to be \"+str(age)+\".\")\n",
    "\n",
    "\n",
    "\n"
   ]
  },
  {
   "cell_type": "code",
   "execution_count": 13,
   "metadata": {
    "collapsed": true
   },
   "outputs": [
    {
     "name": "stdout",
     "output_type": "stream",
     "text": [
      "101 is greater than 100 is:  True\n"
     ]
    }
   ],
   "source": [
    "# [ ] input a number \n",
    "# if number IS a digit string then cast to int\n",
    "# print number \"greater than 100 is\" True/False\n",
    "# if number is NOT a digit string then message the user that \"only int is accepted\"\n",
    "\n",
    "number = input(\"Input a number here: \")\n",
    "if number .isdigit():\n",
    "    print(number + \" is greater than 100 is: \", int(number) >100)\n",
    "else:\n",
    "    print(\"only int is accepted\")\n"
   ]
  },
  {
   "cell_type": "markdown",
   "metadata": {},
   "source": [
    "### Guessing a letter A-Z  \n",
    "**check_guess()** takes 2 string arguments: **letter and guess** (both expect single alphabetical character)   \n",
    "    - if guess is not an alpha character print invalid and return False\n",
    "    - test and print if guess is \"high\" or \"low\" and return False\n",
    "    - test and print if guess is \"correct\" and return True"
   ]
  },
  {
   "cell_type": "code",
   "execution_count": 1,
   "metadata": {
    "collapsed": true
   },
   "outputs": [
    {
     "name": "stdout",
     "output_type": "stream",
     "text": [
      "Invalid - not alphabetical\n",
      "Invalid - not alphabetical\n",
      "Invalid - not alphabetical\n",
      "You lose.\n"
     ]
    }
   ],
   "source": [
    "# [ ] create check_guess()\n",
    "def check_guess(letter,guess):\n",
    "    guess = str(guess)\n",
    "    if guess.isalpha():\n",
    "        #guess is alphabetical letters\n",
    "        if len(guess)==1:\n",
    "            #guess is one character\n",
    "            #TODO check the guess\n",
    "            if guess == letter:\n",
    "                print(\"Correct\")\n",
    "                return True\n",
    "            elif guess > letter:\n",
    "                print(\"Low\")\n",
    "                return False\n",
    "            elif guess < letter:\n",
    "                print(\"High\")\n",
    "                return False\n",
    "            else:\n",
    "                print(\"unhandled exception\")\n",
    "                return False\n",
    "        else:\n",
    "            print(\"Invalid - more than one character\")\n",
    "            return False\n",
    "    else:\n",
    "        print(\"Invalid - not alphabetical\")\n",
    "        return False\n",
    "    \n",
    "def letter_game(correct_answer):\n",
    "    this_guess = input(\"Guess the letter (provide one letter): \")\n",
    "    if True == check_guess(correct_answer,this_guess):\n",
    "        print(\"On the first try! What a mensch.\")\n",
    "    else:\n",
    "        #second guess\n",
    "        this_guess = input(\"Guess the letter (provide one letter): \")\n",
    "        if True == check_guess(correct_answer,this_guess):\n",
    "            print(\"On the second try! What a mensch.\")\n",
    "        else:\n",
    "        #third guess\n",
    "            this_guess = input(\"Guess the letter (provide one letter): \")\n",
    "            if True == check_guess(correct_answer,this_guess):\n",
    "                print(\"On the third try! Sortta slow.\")\n",
    "            else:\n",
    "                print(\"You lose.\")\n",
    "\n",
    "letter_game(\"A\")"
   ]
  },
  {
   "cell_type": "code",
   "execution_count": null,
   "metadata": {
    "collapsed": true
   },
   "outputs": [
    {
     "name": "stdout",
     "output_type": "stream",
     "text": [
      "Correct\n",
      "On the first try! What a mensch.\n"
     ]
    }
   ],
   "source": [
    "# [ ] call check_guess with user input\n",
    "letter_game(\"B\")\n"
   ]
  },
  {
   "cell_type": "markdown",
   "metadata": {},
   "source": [
    "### Letter Guess\n",
    "**create letter_guess() function that gives user 3 guesses**\n",
    "- takes a letter character argument for the answer letter\n",
    "- gets user input for letter guess  \n",
    "- calls check_guess() with answer and guess\n",
    "- End letter_guess if \n",
    "    - check_guess() equals True, return True  \n",
    "    - or after 3 failed attempts, return False"
   ]
  },
  {
   "cell_type": "code",
   "execution_count": 5,
   "metadata": {
    "collapsed": true
   },
   "outputs": [
    {
     "name": "stdout",
     "output_type": "stream",
     "text": [
      "Correct\n",
      "Correct\n",
      "On the first try! What a mensch.\n"
     ]
    }
   ],
   "source": [
    "# [ ] create letter_guess() function, call the function to test\n",
    "  \n",
    "check_guess(\"A\", \"A\")\n",
    "\n",
    "def letter_guess(correct_answer):\n",
    "    this_guess = input(\"Guess the letter (provide one letter): \")\n",
    "    if True == check_guess(correct_answer,this_guess):\n",
    "        print(\"On the first try! What a mensch.\")\n",
    "    else:\n",
    "        #second guess\n",
    "        this_guess = input(\"Guess the letter (provide one letter): \")\n",
    "        if True == check_guess(correct_answer,this_guess):\n",
    "            print(\"On the second try! What a mensch.\")\n",
    "        else:\n",
    "        #third guess\n",
    "            this_guess = input(\"Guess the letter (provide one letter): \")\n",
    "            if True == check_guess(correct_answer,this_guess):\n",
    "                print(\"On the third try! Sortta slow.\")\n",
    "            else:\n",
    "                print(\"You lose.\")\n",
    "    \n",
    "letter_guess(\"A\")\n"
   ]
  },
  {
   "cell_type": "markdown",
   "metadata": {},
   "source": [
    "### Pet Conversation\n",
    "**ask the user for a sentence about a pet and then reply**  \n",
    "- get user input in variable: about_pet\n",
    "- using a series of **if** statements respond with appropriate conversation\n",
    "  - check if \"dog\" is in the string about_pet (sample reply \"Ah, a dog\")\n",
    "  - check if \"cat\" is in the string about_pet\n",
    "  - check if 1 or more animal is in string about_pet\n",
    "- no need for **else**'s\n",
    "- finish with thanking for the story"
   ]
  },
  {
   "cell_type": "code",
   "execution_count": 4,
   "metadata": {
    "collapsed": true
   },
   "outputs": [
    {
     "name": "stdout",
     "output_type": "stream",
     "text": [
      "You should get a dog, cat, or bird\n",
      "thank you for the story\n"
     ]
    }
   ],
   "source": [
    "# [ ] complete pet conversation\n",
    "about_pet = input(\"What kind of pet do you have? \")\n",
    "if about_pet.lower() == \"dog\":\n",
    "    print(\"That is great that you have a dog\")\n",
    "elif about_pet.lower() == \"cat\":\n",
    "    print(\"that is great that you have a cat\")\n",
    "elif about_pet == \"bird\":\n",
    "    print(\"that is great that you have a bird\")\n",
    "else:\n",
    "    print(\"You should get a dog, cat, or bird\")\n",
    "\n",
    "print(\"thank you for the story\")"
   ]
  },
  {
   "cell_type": "markdown",
   "metadata": {},
   "source": [
    "# Module 3 Practice 2\n",
    "## conditionals, type, and mathematics extended   \n",
    "&nbsp;\n",
    "<font size=\"5\" color=\"#00A0B2\"  face=\"verdana\"> <B>Student will be able to</B></font>  \n",
    "- code more than two choices using **`elif`** \n",
    "- gather numeric input using type casting  \n",
    "- perform subtraction, multiplication and division operations in code  &nbsp;  \n"
   ]
  },
  {
   "cell_type": "markdown",
   "metadata": {},
   "source": [
    "# &nbsp;  \n",
    "<font size=\"6\" color=\"#B24C00\"  face=\"verdana\"> <B>Tasks</B></font>"
   ]
  },
  {
   "cell_type": "markdown",
   "metadata": {},
   "source": [
    "### Rainbow colors\n",
    "ask for input of a favorite rainbow color first letter: ROYGBIV  \n",
    "\n",
    "Using `if`, `elif`, and `else`:  \n",
    "- print the color matching the letter  \n",
    "    - R = Red  \n",
    "    - O = Orange  \n",
    "    - Y = Yellow  \n",
    "    - G = Green\n",
    "    - B = Blue\n",
    "    - I = Indigo\n",
    "    - V = Violet\n",
    "    - else print \"no match\"\n"
   ]
  },
  {
   "cell_type": "code",
   "execution_count": 10,
   "metadata": {},
   "outputs": [
    {
     "name": "stdout",
     "output_type": "stream",
     "text": [
      "Green\n",
      "Thank you for playing\n"
     ]
    }
   ],
   "source": [
    "# [ ] complete rainbow colors\n",
    "fav_color = input(\"Give me your favorite color of the rainbow, only use first letter\")\n",
    "if fav_color.lower() == \"r\":\n",
    "    print(\"Red\")\n",
    "elif fav_color.lower() == \"o\":\n",
    "    print(\"Orange\")\n",
    "elif fav_color.lower() == \"y\":\n",
    "    print(\"Yellow\")\n",
    "elif fav_color.lower() == \"g\":\n",
    "    print(\"Green\")\n",
    "elif fav_color.lower() == \"b\":\n",
    "    print(\"Blue\")\n",
    "elif fav_color.lower() == \"i\":\n",
    "    print(\"Indigo\")\n",
    "elif fav_color.lower() == \"v\":\n",
    "    print(\"Violet\")\n",
    "else:\n",
    "    print(\"Not a rainbow color\")\n",
    "print(\"Thank you for playing\")\n",
    "\n"
   ]
  },
  {
   "cell_type": "code",
   "execution_count": 18,
   "metadata": {},
   "outputs": [
    {
     "name": "stdout",
     "output_type": "stream",
     "text": [
      "Red\n"
     ]
    }
   ],
   "source": [
    "# [ ] make the code above into a function rainbow_color() that has a string parameter, \n",
    "# get input and call the function and return the matching color as a string or \"no match\" message.\n",
    "# Call the function and print the return string.\n",
    "def rainbow_color(fav_color):\n",
    "    letter = fav_color.lower()\n",
    "    if letter.lower() == \"r\":\n",
    "        return \"Red\"\n",
    "    elif letter.lower() == \"o\":\n",
    "        return \"Orange\"\n",
    "    elif letter.lower() == \"y\":\n",
    "        return \"Yellow\"\n",
    "    elif letter.lower() == \"g\":\n",
    "        return \"Green\"\n",
    "    elif letter.lower() == \"b\":\n",
    "        return \"Blue\"\n",
    "    elif letter.lower() == \"i\":\n",
    "        return \"Indigo\"\n",
    "    elif letter.lower() == \"v\":\n",
    "        return \"Violet\"\n",
    "    else:\n",
    "        return (\"No match\")\n",
    "\n",
    "user_input = input(\"Give me your favorite color of the rainbow, only use first letter\")\n",
    "\n",
    "matching_color = rainbow_color(user_input)\n",
    "\n",
    "print(matching_color)"
   ]
  },
  {
   "cell_type": "markdown",
   "metadata": {},
   "source": [
    "# &nbsp;  \n",
    "**Create function age_20() that adds or subtracts 20 from your age for a return value based on current age** (use `if`) \n",
    "- call the funtion with user input and then use the return value in a sentence  \n",
    "example `age_20(25)` returns **5**: \n",
    "> \"5 years old, 20 years difference from now\""
   ]
  },
  {
   "cell_type": "code",
   "execution_count": 34,
   "metadata": {},
   "outputs": [
    {
     "name": "stdout",
     "output_type": "stream",
     "text": [
      "\"5 years old, 20 years diffence from now\"\n"
     ]
    }
   ],
   "source": [
    "# [ ] complete age_20()\n",
    "\n",
    "def age_20(current_age):\n",
    "    if current_age >= 20:\n",
    "        return current_age - 20\n",
    "    else:\n",
    "       return current_age + 20\n",
    "    \n",
    "age = input(\"Enter your age\")\n",
    "age_int = int(age)\n",
    "\n",
    "new_age = age_20(age_int)\n",
    "\n",
    "print(f'\"{new_age} years old, 20 years diffence from now\"')"
   ]
  },
  {
   "cell_type": "markdown",
   "metadata": {},
   "source": [
    "**create a function rainbow_or_age that takes a string argument**\n",
    "- if argument is a digit return the value of calling age_20() with the str value cast as **`int`** \n",
    "- if argument is an alphabetical character return the value of calling rainbow_color() with the str\n",
    "- if neither return FALSE"
   ]
  },
  {
   "cell_type": "code",
   "execution_count": 43,
   "metadata": {},
   "outputs": [
    {
     "data": {
      "text/plain": [
       "23"
      ]
     },
     "execution_count": 43,
     "metadata": {},
     "output_type": "execute_result"
    }
   ],
   "source": [
    "# [ ]  create rainbow_or_age()\n",
    "\n",
    "def age_20(current_age):\n",
    "\n",
    "    if current_age >= 20:\n",
    "        return current_age - 20\n",
    "    else:\n",
    "        return current_age + 20\n",
    "\n",
    "def rainbow_color(color_letter):\n",
    "\n",
    "    letter = color_letter.lower()\n",
    "    \n",
    "    if letter == \"r\":\n",
    "        return \"Red\"\n",
    "    elif letter == \"o\":\n",
    "        return \"Orange\"\n",
    "    elif letter == \"y\":\n",
    "        return \"Yellow\"\n",
    "    elif letter == \"g\":\n",
    "        return \"Green\"\n",
    "    elif letter == \"b\":\n",
    "        return \"Blue\"\n",
    "    elif letter == \"i\":\n",
    "        return \"Indigo\"\n",
    "    elif letter == \"v\":\n",
    "        return \"Violet\"\n",
    "    else:\n",
    "        return \"no match\"\n",
    "\n",
    "\n",
    "\n",
    "def rainbow_or_age():\n",
    "    user_input = input(\"Give me your favorite color of the rainbow, only use first letter or your age as a number\")\n",
    "    if user_input.isdigit():\n",
    "        age = int(user_input)\n",
    "        return age_20(age)\n",
    "    elif user_input.isalpha():\n",
    "        return rainbow_color(user_input)\n",
    "    else:\n",
    "        return False\n",
    "    \n",
    "rainbow_or_age()"
   ]
  },
  {
   "cell_type": "code",
   "execution_count": 45,
   "metadata": {},
   "outputs": [
    {
     "name": "stdout",
     "output_type": "stream",
     "text": [
      "12\n"
     ]
    }
   ],
   "source": [
    "# [ ]  add 2 numbers from input using a cast to integer and display the answer \n",
    "age = input(\"enter your age: \")\n",
    "age_2 = input(\"enter a second age: \")\n",
    "\n",
    "print(int(age) + int(age_2))\n"
   ]
  },
  {
   "cell_type": "code",
   "execution_count": 47,
   "metadata": {},
   "outputs": [
    {
     "name": "stdout",
     "output_type": "stream",
     "text": [
      "the answer is... 25\n"
     ]
    }
   ],
   "source": [
    "# [ ] Multiply 2 numbers from input using cast and save the answer as part of a string \"the answer is...\"\n",
    "# display the string using print\n",
    "num_1 = input(\"Number 1\")\n",
    "num_2 = input(\"Number 2\")\n",
    "\n",
    "product = int(num_1) * int(num_2)\n",
    "\n",
    "print(\"the answer is... \" + str(product))        \n",
    "\n"
   ]
  },
  {
   "cell_type": "code",
   "execution_count": 48,
   "metadata": {},
   "outputs": [
    {
     "name": "stdout",
     "output_type": "stream",
     "text": [
      "15.0\n"
     ]
    }
   ],
   "source": [
    "# [ ] get input of 2 numbers and display the average: (num1 + num2) divided by 2\n",
    "num_3 = input(\"Number 3\")\n",
    "num_4 = input(\"Number 4\")\n",
    "\n",
    "print((int(num_3) + int(num_4)) / 2)\n"
   ]
  },
  {
   "cell_type": "code",
   "execution_count": 51,
   "metadata": {},
   "outputs": [
    {
     "name": "stdout",
     "output_type": "stream",
     "text": [
      "The difference is: 10\n"
     ]
    }
   ],
   "source": [
    "# [ ] get input of 2 numbers and subtract the largest from the smallest (use an if statement to see which is larger)\n",
    "# show the answer\n",
    "num_5 = input(\"Number 5\")\n",
    "num_6 = input(\"Number 6\")\n",
    "\n",
    "num_5_int = int(num_5)\n",
    "num_6_int = int(num_6)\n",
    "\n",
    "if num_5_int > num_6_int:\n",
    "    differnece = num_5_int - num_6_int\n",
    "\n",
    "else:\n",
    "    differnece = num_6_int - num_5_int\n",
    "\n",
    "print(\"The difference is: \" + str(differnece))\n"
   ]
  },
  {
   "cell_type": "code",
   "execution_count": null,
   "metadata": {},
   "outputs": [
    {
     "name": "stdout",
     "output_type": "stream",
     "text": [
      "The integer result is: 0\n"
     ]
    }
   ],
   "source": [
    "# [ ] Divide a larger number by a smaller number and print the integer part of the result\n",
    "# don't divide by zero! if a zero is input make the result zero\n",
    "# [ ] cast the answer to an integer to cut off the decimals and print the result\n",
    "\n",
    "\n",
    "num1_str = input(\"Enter the first number: \")\n",
    "num2_str = input(\"Enter the second number: \")\n",
    "\n",
    "num1 = float(num1_str)\n",
    "num2 = float(num2_str)\n",
    "\n",
    "if num1 == 0 or num2 == 0:\n",
    "    result = 0\n",
    "elif num1 > num2:\n",
    "    division_result = num1 / num2\n",
    "    result = int(division_result)\n",
    "else: \n",
    "    division_result = num2 / num1\n",
    "    result = int(division_result)\n",
    "\n",
    "\n",
    "print(f\"The integer result is: {result}\")\n"
   ]
  },
  {
   "cell_type": "markdown",
   "metadata": {
    "collapsed": true
   },
   "source": [
    "[Terms of use](http://go.microsoft.com/fwlink/?LinkID=206977) &nbsp; [Privacy & cookies](https://go.microsoft.com/fwlink/?LinkId=521839) &nbsp; © 2017 Microsoft"
   ]
  }
 ],
 "metadata": {
  "anaconda-cloud": {},
  "kernelspec": {
   "display_name": "Python 3",
   "language": "python",
   "name": "python3"
  },
  "language_info": {
   "codemirror_mode": {
    "name": "ipython",
    "version": 3
   },
   "file_extension": ".py",
   "mimetype": "text/x-python",
   "name": "python",
   "nbconvert_exporter": "python",
   "pygments_lexer": "ipython3",
   "version": "3.13.7"
  }
 },
 "nbformat": 4,
 "nbformat_minor": 1
}
